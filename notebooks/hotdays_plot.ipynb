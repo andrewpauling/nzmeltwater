{
 "cells": [
  {
   "cell_type": "code",
   "execution_count": 1,
   "id": "9b34af57-e59d-4c75-8784-704236abb26d",
   "metadata": {},
   "outputs": [],
   "source": [
    "from pathlib import Path\n",
    "\n",
    "import cartopy.crs as ccrs\n",
    "from cartopy.mpl.gridliner import LatitudeFormatter, LongitudeFormatter\n",
    "import matplotlib as mpl\n",
    "import matplotlib.pyplot as plt\n",
    "import matplotlib.ticker as mticker\n",
    "import numpy as np\n",
    "import xarray as xr\n",
    "from scipy.stats import ttest_ind\n",
    "\n",
    "mpl.rcParams[\"figure.figsize\"] = 6, 4\n",
    "mpl.rcParams[\"font.size\"] = 12"
   ]
  },
  {
   "cell_type": "markdown",
   "id": "4d16b38a-5f78-4f50-ad72-2c8748382998",
   "metadata": {},
   "source": [
    "### Load daily tasmax data"
   ]
  },
  {
   "cell_type": "code",
   "execution_count": 2,
   "id": "c6518e77-a285-4c05-9696-64a235a6afc3",
   "metadata": {},
   "outputs": [],
   "source": [
    "droot = Path(\"../data/processed/HadGEM3-GC31-LL\")\n",
    "\n",
    "expts = [\"historical\", \"ssp585\"]\n",
    "\n",
    "expdict = {\"historical\": \"hist-antwater-92-11\", \"ssp585\": \"ssp585-ismip6-water\"}"
   ]
  },
  {
   "cell_type": "code",
   "execution_count": 6,
   "id": "06bfc511-6bb4-49fd-a00b-7ca16f6ff15d",
   "metadata": {},
   "outputs": [
    {
     "name": "stdout",
     "output_type": "stream",
     "text": [
      "historical\n",
      "ssp585\n"
     ]
    }
   ],
   "source": [
    "ddict = {}\n",
    "for exp in expts:\n",
    "    print(exp)\n",
    "    if exp == \"historical\":\n",
    "        histdir = droot.joinpath(\"historical\", \"day\", \"tasmax\")\n",
    "        sspdir = droot.joinpath(\"ssp245\", \"day\", \"tasmax\")\n",
    "\n",
    "        hfiles = sorted(list(histdir.glob(\"*.nc\")))\n",
    "        sfiles = sorted(list(sspdir.glob(\"*.nc\")))\n",
    "\n",
    "        dsh = xr.open_mfdataset(hfiles, combine=\"nested\", concat_dim=\"ensmem\")\n",
    "        dss = xr.open_mfdataset(sfiles, combine=\"nested\", concat_dim=\"ensmem\")\n",
    "\n",
    "        dsc = xr.concat((dsh, dss), dim=\"time\")\n",
    "    else:\n",
    "        cdir = droot.joinpath(\"ssp585\", \"day\", \"tasmax\")\n",
    "        cfiles = sorted(list(cdir.glob(\"*.nc\")))\n",
    "\n",
    "        dsc = xr.open_mfdataset(cfiles, combine=\"nested\", concat_dim=\"ensmem\")\n",
    "\n",
    "    ddir = droot.joinpath(expdict[exp], \"day\", \"tasmax\")\n",
    "    dfiles = sorted(list(ddir.glob(\"*.nc\")))\n",
    "\n",
    "    ensmem = [f.name.split(\"_\")[4] for f in dfiles]\n",
    "\n",
    "    dse = xr.open_mfdataset(dfiles, combine=\"nested\", concat_dim=\"ensmem\")\n",
    "\n",
    "    dsc = dsc.assign_coords({\"ensmem\": (\"ensmem\", ensmem)})\n",
    "    dse = dse.assign_coords({\"ensmem\": (\"ensmem\", ensmem)})\n",
    "\n",
    "    dac = dsc[\"tasmax\"].isel(time=slice(-240 * 30, None))\n",
    "    dae = dse[\"tasmax\"].isel(time=slice(-240 * 30, None))\n",
    "    dap = dse[\"tasmax\"].isel(time=slice(None, 240 * 30))\n",
    "\n",
    "    dae = dae.rename({\"latitude\": \"lat\", \"longitude\": \"lon\"})\n",
    "    dap = dap.rename({\"latitude\": \"lat\", \"longitude\": \"lon\"})\n",
    "\n",
    "    ddict[exp] = {\"ctrl\": dac, \"expt\": dae, \"pres\": dap}"
   ]
  },
  {
   "cell_type": "code",
   "execution_count": 10,
   "id": "8effabb3-8f9b-4c85-b520-39701dee51b8",
   "metadata": {},
   "outputs": [],
   "source": [
    "sdir = droot.joinpath(\"fx\", \"sftlf\")\n",
    "ncs = list(sdir.glob(\"*.nc\"))[0]\n",
    "\n",
    "dss = xr.open_dataset(ncs)\n",
    "\n",
    "mask = dss[\"sftlf\"]"
   ]
  },
  {
   "cell_type": "markdown",
   "id": "141eebdf-7f68-4bbe-b556-632651c37379",
   "metadata": {},
   "source": [
    "### Compute number of hot days for NZ"
   ]
  },
  {
   "cell_type": "code",
   "execution_count": 11,
   "id": "20e81a6c-906d-4daf-bac0-bbc61c1dfe16",
   "metadata": {},
   "outputs": [],
   "source": [
    "def weightedmn(da):\n",
    "    return da.weighted(np.cos(np.deg2rad(da.lat))).mean((\"lat\", \"lon\"))"
   ]
  },
  {
   "cell_type": "code",
   "execution_count": 12,
   "id": "5828a1f0-1e51-43e1-b1c5-608f61f2d606",
   "metadata": {},
   "outputs": [],
   "source": [
    "nzdict = {}\n",
    "\n",
    "for exp in expts:\n",
    "    dac_nz = ddict[exp][\"ctrl\"].where(\n",
    "        np.logical_and(ddict[exp][\"ctrl\"].lon > 155, ddict[exp][\"ctrl\"].lon < 190),\n",
    "        drop=True,\n",
    "    )\n",
    "    dac_nz = dac_nz.where(np.logical_and(dac_nz.lat > -60, dac_nz.lat < -20), drop=True)\n",
    "\n",
    "    dae_nz = ddict[exp][\"expt\"].where(\n",
    "        np.logical_and(ddict[exp][\"expt\"].lon > 155, ddict[exp][\"expt\"].lon < 190),\n",
    "        drop=True,\n",
    "    )\n",
    "    dae_nz = dae_nz.where(np.logical_and(dae_nz.lat > -60, dae_nz.lat < -20), drop=True)\n",
    "\n",
    "    dap_nz = ddict[exp][\"pres\"].where(\n",
    "        np.logical_and(ddict[exp][\"pres\"].lon > 155, ddict[exp][\"pres\"].lon < 190),\n",
    "        drop=True,\n",
    "    )\n",
    "    dap_nz = dap_nz.where(np.logical_and(dap_nz.lat > -60, dap_nz.lat < -20), drop=True)\n",
    "\n",
    "    dac_nz = dac_nz.where(mask > 0, drop=True)\n",
    "    dae_nz = dae_nz.where(mask > 0, drop=True)\n",
    "    dap_nz = dap_nz.where(mask > 0, drop=True)\n",
    "\n",
    "    nzdict[exp] = {\"ctrl\": dac_nz, \"expt\": dae_nz, \"pres\": dap_nz}"
   ]
  },
  {
   "cell_type": "code",
   "execution_count": 15,
   "id": "5bb01ed8-7950-4e25-8da5-712d82659a4c",
   "metadata": {},
   "outputs": [],
   "source": [
    "def get_hotdays(da):\n",
    "    test = da - 273.15\n",
    "    test2 = test.where(test > 25, 0)\n",
    "    test3 = test2.where(test2 == 0, 1)\n",
    "\n",
    "    return test3.groupby(\"time.year\").sum(\"time\")\n",
    "\n",
    "\n",
    "hot_e = get_hotdays(nzdict[\"ssp585\"][\"expt\"]).compute()\n",
    "hot_c = get_hotdays(nzdict[\"ssp585\"][\"ctrl\"]).compute()\n",
    "hot_p = get_hotdays(nzdict[\"historical\"][\"ctrl\"]).compute()"
   ]
  },
  {
   "cell_type": "code",
   "execution_count": 21,
   "id": "72938f7d-f5c0-49ad-b22c-ed0312cc7ff2",
   "metadata": {},
   "outputs": [],
   "source": [
    "panom = (hot_c.where(mask>0).mean(\"ensmem\") - hot_e.where(mask>0).mean(\"ensmem\")).mean(\"year\")\n",
    "eanom = (hot_e.where(mask>0).mean(\"ensmem\") - hot_c.where(mask>0).mean(\"ensmem\")).mean(\"year\")"
   ]
  },
  {
   "cell_type": "markdown",
   "id": "7d0a7228-8aa8-45f4-b502-5ac15321f21c",
   "metadata": {},
   "source": [
    "### Make plot"
   ]
  },
  {
   "cell_type": "code",
   "execution_count": 30,
   "id": "0bda468a-3ed5-4e2e-a6c4-b1f1f0978c98",
   "metadata": {},
   "outputs": [
    {
     "data": {
      "image/png": "[encoded data removed]",
      "text/plain": [
       "<Figure size 600x400 with 2 Axes>"
      ]
     },
     "metadata": {},
     "output_type": "display_data"
    }
   ],
   "source": [
    "fig = plt.figure(1)\n",
    "axs = plt.axes(projection=ccrs.PlateCarree(central_longitude=180))\n",
    "axs.coastlines()\n",
    "axs.set_extent([165, 180, -53, -30], crs=ccrs.PlateCarree())\n",
    "gl = axs.gridlines(crs=ccrs.PlateCarree(), draw_labels=True)\n",
    "gl.xlocator = mticker.FixedLocator([170, 175])\n",
    "gl.ylocator = mticker.FixedLocator([-45, -35])\n",
    "gl.top_labels = False\n",
    "gl.bottom_labels = True\n",
    "gl.left_labels = True\n",
    "gl.xformatter = LongitudeFormatter(dateline_direction_label=True)\n",
    "gl.xlabel_style = {'size': 8, 'color': 'k'}\n",
    "gl.ylabel_style = {'size': 8, 'color': 'k', 'rotation': 90}\n",
    "im = eanom.plot.pcolormesh('lon', 'lat', ax=axs, transform=ccrs.PlateCarree(), cbar_kwargs={\"label\": \"$\\Delta N_{hot days}$\"})\n",
    "\n",
    "levels = [0, 0.05, 0.1, 1]\n",
    "cs = pvale.plot.contourf(\n",
    "    \"lon\",\n",
    "    \"lat\",\n",
    "    ax=axs,\n",
    "    transform=ccrs.PlateCarree(),\n",
    "    levels=levels,\n",
    "    hatches=[\"....\", \"\", \"\"],\n",
    "    colors=\"none\",\n",
    "    add_colorbar=False,\n",
    ")\n",
    "\n",
    "cs.set_edgecolor(\"tab:gray\")\n",
    "cs.set_linewidth(0.0)\n",
    "\n",
    "fig.savefig(\"../figures/delta_hotdays.png\", bbox_inches=\"tight\", dpi=300)"
   ]
  },
  {
   "cell_type": "markdown",
   "id": "cc75f01d-6704-4c07-bbee-0148a25e462a",
   "metadata": {},
   "source": [
    "### Assess statistical significance"
   ]
  },
  {
   "cell_type": "code",
   "execution_count": 28,
   "id": "67c386c4-84a5-4a9b-9f9f-8e6a89181c4a",
   "metadata": {},
   "outputs": [
    {
     "name": "stdout",
     "output_type": "stream",
     "text": [
      "Statistical significance threshold is 0.8251 and anomaly is -2.1456\n"
     ]
    }
   ],
   "source": [
    "statsig = float(3*(weightedmn(hot_e.where(mask > 0)).mean(\"year\").std(\"ensmem\")/np.sqrt(4)))\n",
    "anomaly = eanom.weighted(np.cos(np.deg2rad(eanom.lat))).mean((\"lat\", \"lon\")).data\n",
    "print(f\"Statistical significance threshold is {statsig:5.4f} and anomaly is {anomaly:5.4f}\")"
   ]
  },
  {
   "cell_type": "code",
   "execution_count": null,
   "id": "41b91e98-bf03-4d7b-b83d-9f69abb7e9c6",
   "metadata": {},
   "outputs": [],
   "source": []
  }
 ],
 "metadata": {
  "kernelspec": {
   "display_name": "sofia_project",
   "language": "python",
   "name": "sofia_project"
  },
  "language_info": {
   "codemirror_mode": {
    "name": "ipython",
    "version": 3
   },
   "file_extension": ".py",
   "mimetype": "text/x-python",
   "name": "python",
   "nbconvert_exporter": "python",
   "pygments_lexer": "ipython3",
   "version": "3.10.13"
  }
 },
 "nbformat": 4,
 "nbformat_minor": 5
}
